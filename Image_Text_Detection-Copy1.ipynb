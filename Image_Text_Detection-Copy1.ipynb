{
 "cells": [
  {
   "cell_type": "code",
   "execution_count": 14,
   "id": "915c7911",
   "metadata": {},
   "outputs": [],
   "source": [
    "import pytesseract\n",
    "import cv2\n",
    "import gtts\n",
    "from playsound import playsound"
   ]
  },
  {
   "cell_type": "code",
   "execution_count": 15,
   "id": "efc0bcca",
   "metadata": {},
   "outputs": [],
   "source": [
    "img = cv2.imread('test_1.png')\n",
    "img = cv2.resize(img, ( 720,480))"
   ]
  },
  {
   "cell_type": "code",
   "execution_count": 16,
   "id": "4ed09ec3",
   "metadata": {},
   "outputs": [
    {
     "data": {
      "text/plain": [
       "-1"
      ]
     },
     "execution_count": 16,
     "metadata": {},
     "output_type": "execute_result"
    }
   ],
   "source": [
    "cv2.imshow('Result', img)\n",
    "cv2.waitKey(0)"
   ]
  },
  {
   "cell_type": "code",
   "execution_count": 17,
   "id": "48b6518b",
   "metadata": {},
   "outputs": [],
   "source": [
    "pytesseract.pytesseract.tesseract_cmd = r\"C:\\Program Files\\Tesseract-OCR\\tesseract.exe\""
   ]
  },
  {
   "cell_type": "code",
   "execution_count": 18,
   "id": "7f40c1b8",
   "metadata": {},
   "outputs": [],
   "source": [
    "img = cv2.imread('test_1.png')\n",
    "img = cv2.resize(img, (720, 480))\n",
    "#resized"
   ]
  },
  {
   "cell_type": "code",
   "execution_count": 8,
   "id": "56cf7191",
   "metadata": {},
   "outputs": [
    {
     "name": "stdout",
     "output_type": "stream",
     "text": [
      "Weak people revenge.\n",
      "Strong people forgive.\n",
      "Intelligent People Ignore.\n",
      "\n",
      "~ Albert Einstein\n",
      "\n",
      "AZ QUOTES\n",
      "\n"
     ]
    },
    {
     "ename": "NameError",
     "evalue": "name 'gtts' is not defined",
     "output_type": "error",
     "traceback": [
      "\u001b[1;31m---------------------------------------------------------------------------\u001b[0m",
      "\u001b[1;31mNameError\u001b[0m                                 Traceback (most recent call last)",
      "Cell \u001b[1;32mIn[8], line 3\u001b[0m\n\u001b[0;32m      1\u001b[0m \u001b[38;5;28mprint\u001b[39m(pytesseract\u001b[38;5;241m.\u001b[39mimage_to_string(img))\n\u001b[0;32m      2\u001b[0m \u001b[38;5;66;03m# make request to google to get synthesis\u001b[39;00m\n\u001b[1;32m----> 3\u001b[0m tts \u001b[38;5;241m=\u001b[39m \u001b[43mgtts\u001b[49m\u001b[38;5;241m.\u001b[39mgTTS(pytesseract\u001b[38;5;241m.\u001b[39mimage_to_string(img))\n\u001b[0;32m      4\u001b[0m tts\u001b[38;5;241m.\u001b[39msave(\u001b[38;5;124m\"\u001b[39m\u001b[38;5;124mhello.mp3\u001b[39m\u001b[38;5;124m\"\u001b[39m)\n\u001b[0;32m      5\u001b[0m playsound(\u001b[38;5;124m\"\u001b[39m\u001b[38;5;124mhello.mp3\u001b[39m\u001b[38;5;124m\"\u001b[39m)\n",
      "\u001b[1;31mNameError\u001b[0m: name 'gtts' is not defined"
     ]
    }
   ],
   "source": [
    "print(pytesseract.image_to_string(img))\n",
    "# make request to google to get synthesis\n",
    "tts = gtts.gTTS(pytesseract.image_to_string(img))\n",
    "tts.save(\"hello.mp3\")\n",
    "playsound(\"hello.mp3\")"
   ]
  },
  {
   "cell_type": "code",
   "execution_count": null,
   "id": "e8c145c3",
   "metadata": {},
   "outputs": [],
   "source": [
    "#cv2.imshow('Result', img)\n",
    "#cv2.waitKey(0)"
   ]
  },
  {
   "cell_type": "code",
   "execution_count": null,
   "id": "9053fb5f",
   "metadata": {},
   "outputs": [],
   "source": [
    "#pytesseract.pytesseract.tesseract_cmd = r\"C:\\Program Files\\Tesseract-OCR\\tesseract.exe\""
   ]
  },
  {
   "cell_type": "code",
   "execution_count": null,
   "id": "d8c683ca",
   "metadata": {},
   "outputs": [],
   "source": [
    "img = cv2.imread('test_1.png')\n",
    "img = cv2.resize(img, (720, 480))"
   ]
  },
  {
   "cell_type": "code",
   "execution_count": null,
   "id": "152213e0",
   "metadata": {},
   "outputs": [],
   "source": [
    "print(pytesseract.image_to_boxes(img))"
   ]
  },
  {
   "cell_type": "code",
   "execution_count": null,
   "id": "15aa10dc",
   "metadata": {},
   "outputs": [],
   "source": [
    "cv2.imshow('Result', img)\n",
    "cv2.waitKey(0)"
   ]
  },
  {
   "cell_type": "code",
   "execution_count": null,
   "id": "011c0293",
   "metadata": {},
   "outputs": [],
   "source": [
    "img = cv2.imread('test_1.png')\n",
    "img = cv2.resize(img, (720, 480))\n",
    "hImg, wImg, _ = img.shape"
   ]
  },
  {
   "cell_type": "code",
   "execution_count": null,
   "id": "ee6dee91",
   "metadata": {},
   "outputs": [],
   "source": [
    "boxes = pytesseract.image_to_boxes(img)\n",
    "\n"
   ]
  },
  {
   "cell_type": "code",
   "execution_count": null,
   "id": "0e421fa8",
   "metadata": {},
   "outputs": [],
   "source": [
    "for b in boxes.splitlines():\n",
    "    b = b.split(' ')\n",
    "    print(b)\n",
    "    x, y, w, h = int(b[1]), int(b[2]), int(b[3]), int(b[4])\n",
    "    cv2.rectangle(img, (x, hImg - y), (w, hImg - h), (50, 50, 255), 1)\n",
    "    cv2.putText(img, b[0], (x, hImg - y + 13), cv2.FONT_HERSHEY_SIMPLEX, 0.4, (50, 205, 50), 1)\n",
    "\n"
   ]
  },
  {
   "cell_type": "code",
   "execution_count": null,
   "id": "c1e46e76",
   "metadata": {},
   "outputs": [],
   "source": [
    "cv2.imshow('Detected text', img)\n",
    "cv2.waitKey(0)"
   ]
  },
  {
   "cell_type": "code",
   "execution_count": null,
   "id": "18899e05",
   "metadata": {},
   "outputs": [],
   "source": []
  },
  {
   "cell_type": "code",
   "execution_count": null,
   "id": "62929524",
   "metadata": {},
   "outputs": [],
   "source": []
  },
  {
   "cell_type": "code",
   "execution_count": null,
   "id": "086ad1ae",
   "metadata": {},
   "outputs": [],
   "source": []
  },
  {
   "cell_type": "code",
   "execution_count": null,
   "id": "1ee4b19c",
   "metadata": {},
   "outputs": [],
   "source": []
  }
 ],
 "metadata": {
  "kernelspec": {
   "display_name": "Python 3 (ipykernel)",
   "language": "python",
   "name": "python3"
  },
  "language_info": {
   "codemirror_mode": {
    "name": "ipython",
    "version": 3
   },
   "file_extension": ".py",
   "mimetype": "text/x-python",
   "name": "python",
   "nbconvert_exporter": "python",
   "pygments_lexer": "ipython3",
   "version": "3.10.9"
  }
 },
 "nbformat": 4,
 "nbformat_minor": 5
}
